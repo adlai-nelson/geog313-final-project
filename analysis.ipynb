{
 "cells": [
  {
   "cell_type": "markdown",
   "id": "fb925d14-2191-45e5-9715-754675439100",
   "metadata": {},
   "source": [
    "# GEOG 313 Final\n"
   ]
  },
  {
   "cell_type": "markdown",
   "id": "d4ba9064-f4fe-40eb-8c43-bfb91849cf94",
   "metadata": {},
   "source": [
    "\n",
    "\n",
    "Function 1: Read in Sentinel-1 SAR \n",
    "\n",
    "\t- Inputs: AOI, date range \n",
    "\t- Outputs: Median quarterly composites (mosaiced) of VH and VV bands \n",
    "\n",
    "Function 2: Create index time series \n",
    "\n",
    "\t- Inputs: median quarterly composites, name of index (RVI, mRFDI) \n",
    "\t- Outputs: time series of index value \n",
    "\n",
    "Function 3: Create Visualizations within subzones \n",
    "\n",
    "\t- Inputs: time series, subzones \n",
    "\t- outputs: graph of index value vs time for each subzone. \n",
    "\n",
    "Function 4: Visualize trends \n",
    "\n",
    "\t- Inputs: time series, name of trend (linear, monotonic, etc) \n",
    "\t- outputs: raster image of correlation coefficient or other values (depending on what trend is used- ex. for linear trend it would output two images, r value and correlation coefficient) \n",
    "\n",
    "Function 5: detect deforestation \n",
    "\n",
    "\t- Inputs: time series, index threshold value \n",
    "\t- outputs: image of what year deforestation occurred (when value decreased below the user-defined threshold. If the value decreased then increased the result will be inconclusive and marked with an appropriate value) \n",
    "\n"
   ]
  },
  {
   "cell_type": "code",
   "execution_count": 1,
   "id": "c8e68336-e34d-4d83-9f6c-ada04ffa3a2e",
   "metadata": {},
   "outputs": [
    {
     "name": "stdout",
     "output_type": "stream",
     "text": [
      "http://127.0.0.1:8787/status\n"
     ]
    }
   ],
   "source": [
    "import dask\n",
    "from dask.distributed import Client, LocalCluster\n",
    "cluster = LocalCluster()\n",
    "client = Client(cluster)\n",
    "print(client.dashboard_link)"
   ]
  },
  {
   "cell_type": "code",
   "execution_count": null,
   "id": "82cbf920-06d6-439b-b166-729586df1581",
   "metadata": {},
   "outputs": [],
   "source": []
  },
  {
   "cell_type": "code",
   "execution_count": 2,
   "id": "4d14c135-b9a2-4b8e-85fa-4a5ca66db15e",
   "metadata": {},
   "outputs": [],
   "source": [
    "import xarray as xr\n",
    "import rioxarray as rxr\n",
    "import numpy as np\n",
    "import stackstac\n",
    "import os\n",
    "import leafmap\n",
    "import requests\n",
    "from tqdm import tqdm\n",
    "import pystac_client\n",
    "import planetary_computer\n",
    "from matplotlib import pyplot as plt\n",
    "\n",
    "def get_sar_pc(aoi, start, end):\n",
    "\n",
    "    catalog = pystac_client.Client.open(\n",
    "    \"https://planetarycomputer.microsoft.com/api/stac/v1\",  # connect to Planetary Computer API\n",
    "    modifier=planetary_computer.sign_inplace,               \n",
    "    )\n",
    "\n",
    "    search = catalog.search(\n",
    "        collections=[\"sentinel-1-rtc\"],       # get sentienel 2 l2a\n",
    "        bbox=aoi,                            # within bbox\n",
    "        datetime = f\"{start}/{end}\",          # within specified dates\n",
    "    )\n",
    "\n",
    "    items = search.get_all_items()  # get items into new variable\n",
    "    return items\n",
    "\n",
    "\n",
    "def items_to_xarray(items, bbox, bands):\n",
    "    stack = stackstac.stack(\n",
    "        items,                 # output of item collection search\n",
    "        bounds_latlon=bbox,       # clip to bbox\n",
    "        assets=bands           # get only green and nir bands\n",
    "    )\n",
    "    \n",
    "    return stack\n"
   ]
  }
 ],
 "metadata": {
  "kernelspec": {
   "display_name": "Python 3 (ipykernel)",
   "language": "python",
   "name": "python3"
  },
  "language_info": {
   "codemirror_mode": {
    "name": "ipython",
    "version": 3
   },
   "file_extension": ".py",
   "mimetype": "text/x-python",
   "name": "python",
   "nbconvert_exporter": "python",
   "pygments_lexer": "ipython3",
   "version": "3.13.0"
  }
 },
 "nbformat": 4,
 "nbformat_minor": 5
}
